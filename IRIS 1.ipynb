{
 "cells": [
  {
   "cell_type": "code",
   "execution_count": 1,
   "metadata": {},
   "outputs": [],
   "source": [
    "import numpy as np\n",
    "import pandas as pd\n",
    "import matplotlib.pyplot as plt\n",
    "import seaborn as sns\n",
    "import warnings\n",
    "warnings.filterwarnings('ignore')"
   ]
  },
  {
   "cell_type": "code",
   "execution_count": 2,
   "metadata": {},
   "outputs": [],
   "source": [
    "pd.set_option(\"display.max_columns\" , None)"
   ]
  },
  {
   "cell_type": "code",
   "execution_count": 3,
   "metadata": {},
   "outputs": [
    {
     "data": {
      "text/html": [
       "<div>\n",
       "<style scoped>\n",
       "    .dataframe tbody tr th:only-of-type {\n",
       "        vertical-align: middle;\n",
       "    }\n",
       "\n",
       "    .dataframe tbody tr th {\n",
       "        vertical-align: top;\n",
       "    }\n",
       "\n",
       "    .dataframe thead th {\n",
       "        text-align: right;\n",
       "    }\n",
       "</style>\n",
       "<table border=\"1\" class=\"dataframe\">\n",
       "  <thead>\n",
       "    <tr style=\"text-align: right;\">\n",
       "      <th></th>\n",
       "      <th>sepal_length</th>\n",
       "      <th>sepal_width</th>\n",
       "      <th>petal_length</th>\n",
       "      <th>petal_width</th>\n",
       "      <th>species</th>\n",
       "    </tr>\n",
       "  </thead>\n",
       "  <tbody>\n",
       "    <tr>\n",
       "      <td>0</td>\n",
       "      <td>5.1</td>\n",
       "      <td>3.5</td>\n",
       "      <td>1.4</td>\n",
       "      <td>0.2</td>\n",
       "      <td>Iris-setosa</td>\n",
       "    </tr>\n",
       "    <tr>\n",
       "      <td>1</td>\n",
       "      <td>4.9</td>\n",
       "      <td>3.0</td>\n",
       "      <td>1.4</td>\n",
       "      <td>0.2</td>\n",
       "      <td>Iris-setosa</td>\n",
       "    </tr>\n",
       "    <tr>\n",
       "      <td>2</td>\n",
       "      <td>4.7</td>\n",
       "      <td>3.2</td>\n",
       "      <td>1.3</td>\n",
       "      <td>0.2</td>\n",
       "      <td>Iris-setosa</td>\n",
       "    </tr>\n",
       "    <tr>\n",
       "      <td>3</td>\n",
       "      <td>4.6</td>\n",
       "      <td>3.1</td>\n",
       "      <td>1.5</td>\n",
       "      <td>0.2</td>\n",
       "      <td>Iris-setosa</td>\n",
       "    </tr>\n",
       "    <tr>\n",
       "      <td>4</td>\n",
       "      <td>5.0</td>\n",
       "      <td>3.6</td>\n",
       "      <td>1.4</td>\n",
       "      <td>0.2</td>\n",
       "      <td>Iris-setosa</td>\n",
       "    </tr>\n",
       "  </tbody>\n",
       "</table>\n",
       "</div>"
      ],
      "text/plain": [
       "   sepal_length  sepal_width  petal_length  petal_width      species\n",
       "0           5.1          3.5           1.4          0.2  Iris-setosa\n",
       "1           4.9          3.0           1.4          0.2  Iris-setosa\n",
       "2           4.7          3.2           1.3          0.2  Iris-setosa\n",
       "3           4.6          3.1           1.5          0.2  Iris-setosa\n",
       "4           5.0          3.6           1.4          0.2  Iris-setosa"
      ]
     },
     "execution_count": 3,
     "metadata": {},
     "output_type": "execute_result"
    }
   ],
   "source": [
    "df = pd.read_csv(r'C:\\Users\\Vatsal\\Desktop\\projects\\Data Sets\\Self\\Iris\\IRIS.csv')\n",
    "df.head()"
   ]
  },
  {
   "cell_type": "code",
   "execution_count": 4,
   "metadata": {},
   "outputs": [
    {
     "name": "stdout",
     "output_type": "stream",
     "text": [
      "(150, 5)\n",
      "sepal_length    0\n",
      "sepal_width     0\n",
      "petal_length    0\n",
      "petal_width     0\n",
      "species         0\n",
      "dtype: int64\n"
     ]
    }
   ],
   "source": [
    "print(df.shape)\n",
    "print(df.isnull().sum())"
   ]
  },
  {
   "cell_type": "code",
   "execution_count": 5,
   "metadata": {},
   "outputs": [
    {
     "name": "stdout",
     "output_type": "stream",
     "text": [
      "(150, 5)\n"
     ]
    }
   ],
   "source": [
    "df_rev = pd.DataFrame(df)\n",
    "print(df_rev.shape)"
   ]
  },
  {
   "cell_type": "code",
   "execution_count": 6,
   "metadata": {},
   "outputs": [
    {
     "data": {
      "text/html": [
       "<div>\n",
       "<style scoped>\n",
       "    .dataframe tbody tr th:only-of-type {\n",
       "        vertical-align: middle;\n",
       "    }\n",
       "\n",
       "    .dataframe tbody tr th {\n",
       "        vertical-align: top;\n",
       "    }\n",
       "\n",
       "    .dataframe thead th {\n",
       "        text-align: right;\n",
       "    }\n",
       "</style>\n",
       "<table border=\"1\" class=\"dataframe\">\n",
       "  <thead>\n",
       "    <tr style=\"text-align: right;\">\n",
       "      <th></th>\n",
       "      <th>sepal_length</th>\n",
       "      <th>sepal_width</th>\n",
       "      <th>petal_length</th>\n",
       "      <th>petal_width</th>\n",
       "    </tr>\n",
       "  </thead>\n",
       "  <tbody>\n",
       "    <tr>\n",
       "      <td>count</td>\n",
       "      <td>150.000000</td>\n",
       "      <td>150.000000</td>\n",
       "      <td>150.000000</td>\n",
       "      <td>150.000000</td>\n",
       "    </tr>\n",
       "    <tr>\n",
       "      <td>mean</td>\n",
       "      <td>5.843333</td>\n",
       "      <td>3.054000</td>\n",
       "      <td>3.758667</td>\n",
       "      <td>1.198667</td>\n",
       "    </tr>\n",
       "    <tr>\n",
       "      <td>std</td>\n",
       "      <td>0.828066</td>\n",
       "      <td>0.433594</td>\n",
       "      <td>1.764420</td>\n",
       "      <td>0.763161</td>\n",
       "    </tr>\n",
       "    <tr>\n",
       "      <td>min</td>\n",
       "      <td>4.300000</td>\n",
       "      <td>2.000000</td>\n",
       "      <td>1.000000</td>\n",
       "      <td>0.100000</td>\n",
       "    </tr>\n",
       "    <tr>\n",
       "      <td>25%</td>\n",
       "      <td>5.100000</td>\n",
       "      <td>2.800000</td>\n",
       "      <td>1.600000</td>\n",
       "      <td>0.300000</td>\n",
       "    </tr>\n",
       "    <tr>\n",
       "      <td>50%</td>\n",
       "      <td>5.800000</td>\n",
       "      <td>3.000000</td>\n",
       "      <td>4.350000</td>\n",
       "      <td>1.300000</td>\n",
       "    </tr>\n",
       "    <tr>\n",
       "      <td>75%</td>\n",
       "      <td>6.400000</td>\n",
       "      <td>3.300000</td>\n",
       "      <td>5.100000</td>\n",
       "      <td>1.800000</td>\n",
       "    </tr>\n",
       "    <tr>\n",
       "      <td>max</td>\n",
       "      <td>7.900000</td>\n",
       "      <td>4.400000</td>\n",
       "      <td>6.900000</td>\n",
       "      <td>2.500000</td>\n",
       "    </tr>\n",
       "  </tbody>\n",
       "</table>\n",
       "</div>"
      ],
      "text/plain": [
       "       sepal_length  sepal_width  petal_length  petal_width\n",
       "count    150.000000   150.000000    150.000000   150.000000\n",
       "mean       5.843333     3.054000      3.758667     1.198667\n",
       "std        0.828066     0.433594      1.764420     0.763161\n",
       "min        4.300000     2.000000      1.000000     0.100000\n",
       "25%        5.100000     2.800000      1.600000     0.300000\n",
       "50%        5.800000     3.000000      4.350000     1.300000\n",
       "75%        6.400000     3.300000      5.100000     1.800000\n",
       "max        7.900000     4.400000      6.900000     2.500000"
      ]
     },
     "execution_count": 6,
     "metadata": {},
     "output_type": "execute_result"
    }
   ],
   "source": [
    "df_rev.describe()"
   ]
  },
  {
   "cell_type": "code",
   "execution_count": 7,
   "metadata": {},
   "outputs": [
    {
     "data": {
      "text/plain": [
       "species\n",
       "Iris-setosa        50\n",
       "Iris-versicolor    50\n",
       "Iris-virginica     50\n",
       "dtype: int64"
      ]
     },
     "execution_count": 7,
     "metadata": {},
     "output_type": "execute_result"
    }
   ],
   "source": [
    "df_rev.groupby('species').size()"
   ]
  },
  {
   "cell_type": "markdown",
   "metadata": {},
   "source": [
    "Outlier detection and Treatment"
   ]
  },
  {
   "cell_type": "code",
   "execution_count": 8,
   "metadata": {
    "scrolled": true
   },
   "outputs": [
    {
     "data": {
      "text/plain": [
       "<matplotlib.axes._subplots.AxesSubplot at 0x24b84c2d8c8>"
      ]
     },
     "execution_count": 8,
     "metadata": {},
     "output_type": "execute_result"
    },
    {
     "data": {
      "image/png": "[encoded data removed]",
      "text/plain": [
       "<Figure size 432x288 with 1 Axes>"
      ]
     },
     "metadata": {
      "needs_background": "light"
     },
     "output_type": "display_data"
    }
   ],
   "source": [
    "df_rev.plot(kind='box')"
   ]
  },
  {
   "cell_type": "code",
   "execution_count": 9,
   "metadata": {},
   "outputs": [
    {
     "name": "stdout",
     "output_type": "stream",
     "text": [
      "Low:  2.05\n",
      "High:  4.05\n"
     ]
    }
   ],
   "source": [
    "#for value in colname:\n",
    "q1 = df_rev['sepal_width'].quantile(0.25) #first quartile value\n",
    "q3 = df_rev['sepal_width'].quantile(0.75) # third quartile value\n",
    "iqr = q3-q1 #Interquartile range\n",
    "low  = q1-1.5*iqr #acceptable range\n",
    "high = q3+1.5*iqr #acceptable range\n",
    "print(\"Low: \",low)\n",
    "print(\"High: \",high)"
   ]
  },
  {
   "cell_type": "code",
   "execution_count": 10,
   "metadata": {},
   "outputs": [],
   "source": [
    "sep_df_include = df_rev.loc[(df_rev['sepal_width'] >= low) & \\\n",
    "                                (df_rev['sepal_width'] <= high)] # meeting the acceptable range\n",
    "sep_df_exclude = df_rev.loc[(df_rev['sepal_width'] < low) | \\\n",
    "                               (df_rev['sepal_width'] > high)] #not meeting the acceptable range\n"
   ]
  },
  {
   "cell_type": "code",
   "execution_count": 11,
   "metadata": {},
   "outputs": [
    {
     "name": "stdout",
     "output_type": "stream",
     "text": [
      "(146, 5)\n",
      "(4, 5)\n"
     ]
    }
   ],
   "source": [
    "print(sep_df_include.shape)\n",
    "print(sep_df_exclude.shape)"
   ]
  },
  {
   "cell_type": "code",
   "execution_count": 12,
   "metadata": {},
   "outputs": [
    {
     "name": "stdout",
     "output_type": "stream",
     "text": [
      "3\n"
     ]
    }
   ],
   "source": [
    "sep_mean=int(sep_df_include.sepal_width.mean()) #finding the mean of the acceptable range\n",
    "print(sep_mean)"
   ]
  },
  {
   "cell_type": "code",
   "execution_count": 13,
   "metadata": {},
   "outputs": [],
   "source": [
    "#imputing outlier values with mean value\n",
    "sep_df_exclude.sepal_width=sep_mean"
   ]
  },
  {
   "cell_type": "code",
   "execution_count": 14,
   "metadata": {},
   "outputs": [
    {
     "data": {
      "text/plain": [
       "(150, 5)"
      ]
     },
     "execution_count": 14,
     "metadata": {},
     "output_type": "execute_result"
    }
   ],
   "source": [
    "#getting back the original shape of df\n",
    "new_df=pd.concat([sep_df_include,sep_df_exclude]) #concatenating both dfs to get \n",
    "#the original shape\n",
    "new_df.shape"
   ]
  },
  {
   "cell_type": "code",
   "execution_count": 15,
   "metadata": {},
   "outputs": [
    {
     "data": {
      "text/plain": [
       "<matplotlib.axes._subplots.AxesSubplot at 0x24b85d37b88>"
      ]
     },
     "execution_count": 15,
     "metadata": {},
     "output_type": "execute_result"
    },
    {
     "data": {
      "image/png": "[encoded data removed]",
      "text/plain": [
       "<Figure size 432x288 with 1 Axes>"
      ]
     },
     "metadata": {
      "needs_background": "light"
     },
     "output_type": "display_data"
    }
   ],
   "source": [
    "new_df.boxplot()"
   ]
  },
  {
   "cell_type": "markdown",
   "metadata": {},
   "source": [
    "Visualization"
   ]
  },
  {
   "cell_type": "code",
   "execution_count": 16,
   "metadata": {},
   "outputs": [
    {
     "data": {
      "text/plain": [
       "array([[<matplotlib.axes._subplots.AxesSubplot object at 0x0000024B85DF5608>,\n",
       "        <matplotlib.axes._subplots.AxesSubplot object at 0x0000024B85E2DE48>],\n",
       "       [<matplotlib.axes._subplots.AxesSubplot object at 0x0000024B85E65B48>,\n",
       "        <matplotlib.axes._subplots.AxesSubplot object at 0x0000024B85E9EC88>]],\n",
       "      dtype=object)"
      ]
     },
     "execution_count": 16,
     "metadata": {},
     "output_type": "execute_result"
    },
    {
     "data": {
      "image/png": "[encoded data removed]",
      "text/plain": [
       "<Figure size 432x288 with 4 Axes>"
      ]
     },
     "metadata": {
      "needs_background": "light"
     },
     "output_type": "display_data"
    }
   ],
   "source": [
    "# histograms\n",
    "new_df.hist(edgecolor='black', linewidth=1.2)"
   ]
  },
  {
   "cell_type": "code",
   "execution_count": 17,
   "metadata": {},
   "outputs": [
    {
     "data": {
      "text/plain": [
       "<matplotlib.axes._subplots.AxesSubplot at 0x24b85fa08c8>"
      ]
     },
     "execution_count": 17,
     "metadata": {},
     "output_type": "execute_result"
    },
    {
     "data": {
      "image/png": "[encoded data removed]",
      "text/plain": [
       "<Figure size 432x288 with 1 Axes>"
      ]
     },
     "metadata": {
      "needs_background": "light"
     },
     "output_type": "display_data"
    }
   ],
   "source": [
    "# violinplots on petal-length for each species\n",
    "sns.violinplot(data=new_df,x=\"species\", y=\"petal_length\")"
   ]
  },
  {
   "cell_type": "code",
   "execution_count": 18,
   "metadata": {},
   "outputs": [
    {
     "data": {
      "text/plain": [
       "<seaborn.axisgrid.PairGrid at 0x24b860573c8>"
      ]
     },
     "execution_count": 18,
     "metadata": {},
     "output_type": "execute_result"
    },
    {
     "data": {
      "image/png": "[encoded data removed]",
      "text/plain": [
       "<Figure size 823.5x720 with 20 Axes>"
      ]
     },
     "metadata": {
      "needs_background": "light"
     },
     "output_type": "display_data"
    }
   ],
   "source": [
    "# Using seaborn pairplot to see the bivariate relation between each pair of features\n",
    "sns.pairplot(new_df, hue=\"species\")"
   ]
  },
  {
   "cell_type": "markdown",
   "metadata": {},
   "source": [
    "Converting Data Type and Splitting into X and Y"
   ]
  },
  {
   "cell_type": "code",
   "execution_count": 19,
   "metadata": {},
   "outputs": [
    {
     "data": {
      "text/plain": [
       "['species']"
      ]
     },
     "execution_count": 19,
     "metadata": {},
     "output_type": "execute_result"
    }
   ],
   "source": [
    "colname =[]\n",
    "for j in new_df.columns[:]:\n",
    "    if new_df[j].dtype == 'object':\n",
    "        colname.append(j)\n",
    "colname"
   ]
  },
  {
   "cell_type": "code",
   "execution_count": 20,
   "metadata": {},
   "outputs": [],
   "source": [
    "from sklearn import preprocessing\n",
    "\n",
    "le = preprocessing.LabelEncoder()\n",
    "\n",
    "for j in colname:\n",
    "    new_df[j] = le.fit_transform(new_df[j].astype(str))"
   ]
  },
  {
   "cell_type": "code",
   "execution_count": 21,
   "metadata": {},
   "outputs": [],
   "source": [
    "X = new_df.values[:,:-1]\n",
    "Y = new_df.values[:,-1]\n",
    "Y = Y.astype(int)"
   ]
  },
  {
   "cell_type": "code",
   "execution_count": 22,
   "metadata": {},
   "outputs": [
    {
     "data": {
      "text/html": [
       "<div>\n",
       "<style scoped>\n",
       "    .dataframe tbody tr th:only-of-type {\n",
       "        vertical-align: middle;\n",
       "    }\n",
       "\n",
       "    .dataframe tbody tr th {\n",
       "        vertical-align: top;\n",
       "    }\n",
       "\n",
       "    .dataframe thead th {\n",
       "        text-align: right;\n",
       "    }\n",
       "</style>\n",
       "<table border=\"1\" class=\"dataframe\">\n",
       "  <thead>\n",
       "    <tr style=\"text-align: right;\">\n",
       "      <th></th>\n",
       "      <th>sepal_length</th>\n",
       "      <th>sepal_width</th>\n",
       "      <th>petal_length</th>\n",
       "      <th>petal_width</th>\n",
       "      <th>species</th>\n",
       "    </tr>\n",
       "  </thead>\n",
       "  <tbody>\n",
       "    <tr>\n",
       "      <td>0</td>\n",
       "      <td>5.1</td>\n",
       "      <td>3.5</td>\n",
       "      <td>1.4</td>\n",
       "      <td>0.2</td>\n",
       "      <td>0</td>\n",
       "    </tr>\n",
       "    <tr>\n",
       "      <td>1</td>\n",
       "      <td>4.9</td>\n",
       "      <td>3.0</td>\n",
       "      <td>1.4</td>\n",
       "      <td>0.2</td>\n",
       "      <td>0</td>\n",
       "    </tr>\n",
       "    <tr>\n",
       "      <td>2</td>\n",
       "      <td>4.7</td>\n",
       "      <td>3.2</td>\n",
       "      <td>1.3</td>\n",
       "      <td>0.2</td>\n",
       "      <td>0</td>\n",
       "    </tr>\n",
       "    <tr>\n",
       "      <td>3</td>\n",
       "      <td>4.6</td>\n",
       "      <td>3.1</td>\n",
       "      <td>1.5</td>\n",
       "      <td>0.2</td>\n",
       "      <td>0</td>\n",
       "    </tr>\n",
       "    <tr>\n",
       "      <td>4</td>\n",
       "      <td>5.0</td>\n",
       "      <td>3.6</td>\n",
       "      <td>1.4</td>\n",
       "      <td>0.2</td>\n",
       "      <td>0</td>\n",
       "    </tr>\n",
       "  </tbody>\n",
       "</table>\n",
       "</div>"
      ],
      "text/plain": [
       "   sepal_length  sepal_width  petal_length  petal_width  species\n",
       "0           5.1          3.5           1.4          0.2        0\n",
       "1           4.9          3.0           1.4          0.2        0\n",
       "2           4.7          3.2           1.3          0.2        0\n",
       "3           4.6          3.1           1.5          0.2        0\n",
       "4           5.0          3.6           1.4          0.2        0"
      ]
     },
     "execution_count": 22,
     "metadata": {},
     "output_type": "execute_result"
    }
   ],
   "source": [
    "new_df.head()"
   ]
  },
  {
   "cell_type": "code",
   "execution_count": 23,
   "metadata": {},
   "outputs": [
    {
     "name": "stdout",
     "output_type": "stream",
     "text": [
      "[[-9.00681170e-01  1.19418523e+00 -1.34127240e+00 -1.31297673e+00]\n",
      " [-1.14301691e+00 -9.26523021e-02 -1.34127240e+00 -1.31297673e+00]\n",
      " [-1.38535265e+00  4.22082709e-01 -1.39813811e+00 -1.31297673e+00]\n",
      " [-1.50652052e+00  1.64715204e-01 -1.28440670e+00 -1.31297673e+00]\n",
      " [-1.02184904e+00  1.45155273e+00 -1.34127240e+00 -1.31297673e+00]\n",
      " [-5.37177559e-01  2.22365525e+00 -1.17067529e+00 -1.05003079e+00]\n",
      " [-1.50652052e+00  9.36817721e-01 -1.34127240e+00 -1.18150376e+00]\n",
      " [-1.02184904e+00  9.36817721e-01 -1.28440670e+00 -1.31297673e+00]\n",
      " [-1.74885626e+00 -3.50019808e-01 -1.34127240e+00 -1.31297673e+00]\n",
      " [-1.14301691e+00  1.64715204e-01 -1.28440670e+00 -1.44444970e+00]\n",
      " [-5.37177559e-01  1.70892024e+00 -1.28440670e+00 -1.31297673e+00]\n",
      " [-1.26418478e+00  9.36817721e-01 -1.22754100e+00 -1.31297673e+00]\n",
      " [-1.26418478e+00 -9.26523021e-02 -1.34127240e+00 -1.44444970e+00]\n",
      " [-1.87002413e+00 -9.26523021e-02 -1.51186952e+00 -1.44444970e+00]\n",
      " [-5.25060772e-02  2.48102276e+00 -1.45500381e+00 -1.31297673e+00]\n",
      " [-5.37177559e-01  2.22365525e+00 -1.39813811e+00 -1.05003079e+00]\n",
      " [-9.00681170e-01  1.19418523e+00 -1.34127240e+00 -1.18150376e+00]\n",
      " [-1.73673948e-01  1.96628774e+00 -1.17067529e+00 -1.18150376e+00]\n",
      " [-9.00681170e-01  1.96628774e+00 -1.28440670e+00 -1.18150376e+00]\n",
      " [-5.37177559e-01  9.36817721e-01 -1.17067529e+00 -1.31297673e+00]\n",
      " [-9.00681170e-01  1.70892024e+00 -1.28440670e+00 -1.05003079e+00]\n",
      " [-1.50652052e+00  1.45155273e+00 -1.56873522e+00 -1.31297673e+00]\n",
      " [-9.00681170e-01  6.79450215e-01 -1.17067529e+00 -9.18557817e-01]\n",
      " [-1.26418478e+00  9.36817721e-01 -1.05694388e+00 -1.31297673e+00]\n",
      " [-1.02184904e+00 -9.26523021e-02 -1.22754100e+00 -1.31297673e+00]\n",
      " [-1.02184904e+00  9.36817721e-01 -1.22754100e+00 -1.05003079e+00]\n",
      " [-7.79513300e-01  1.19418523e+00 -1.28440670e+00 -1.31297673e+00]\n",
      " [-7.79513300e-01  9.36817721e-01 -1.34127240e+00 -1.31297673e+00]\n",
      " [-1.38535265e+00  4.22082709e-01 -1.22754100e+00 -1.31297673e+00]\n",
      " [-1.26418478e+00  1.64715204e-01 -1.22754100e+00 -1.31297673e+00]\n",
      " [-5.37177559e-01  9.36817721e-01 -1.28440670e+00 -1.05003079e+00]\n",
      " [-1.14301691e+00  1.64715204e-01 -1.28440670e+00 -1.44444970e+00]\n",
      " [-1.02184904e+00  4.22082709e-01 -1.45500381e+00 -1.31297673e+00]\n",
      " [-4.16009689e-01  1.19418523e+00 -1.39813811e+00 -1.31297673e+00]\n",
      " [-1.14301691e+00  1.64715204e-01 -1.28440670e+00 -1.44444970e+00]\n",
      " [-1.74885626e+00 -9.26523021e-02 -1.39813811e+00 -1.31297673e+00]\n",
      " [-9.00681170e-01  9.36817721e-01 -1.28440670e+00 -1.31297673e+00]\n",
      " [-1.02184904e+00  1.19418523e+00 -1.39813811e+00 -1.18150376e+00]\n",
      " [-1.62768839e+00 -1.89422484e+00 -1.39813811e+00 -1.18150376e+00]\n",
      " [-1.74885626e+00  4.22082709e-01 -1.39813811e+00 -1.31297673e+00]\n",
      " [-1.02184904e+00  1.19418523e+00 -1.22754100e+00 -7.87084847e-01]\n",
      " [-9.00681170e-01  1.96628774e+00 -1.05694388e+00 -1.05003079e+00]\n",
      " [-1.26418478e+00 -9.26523021e-02 -1.34127240e+00 -1.18150376e+00]\n",
      " [-9.00681170e-01  1.96628774e+00 -1.22754100e+00 -1.31297673e+00]\n",
      " [-1.50652052e+00  4.22082709e-01 -1.34127240e+00 -1.31297673e+00]\n",
      " [-6.58345429e-01  1.70892024e+00 -1.28440670e+00 -1.31297673e+00]\n",
      " [-1.02184904e+00  6.79450215e-01 -1.34127240e+00 -1.31297673e+00]\n",
      " [ 1.40150837e+00  4.22082709e-01  5.35295827e-01  2.64698913e-01]\n",
      " [ 6.74501145e-01  4.22082709e-01  4.21564419e-01  3.96171883e-01]\n",
      " [ 1.28034050e+00  1.64715204e-01  6.49027235e-01  3.96171883e-01]\n",
      " [-4.16009689e-01 -1.89422484e+00  1.37235899e-01  1.33225943e-01]\n",
      " [ 7.95669016e-01 -6.07387313e-01  4.78430123e-01  3.96171883e-01]\n",
      " [-1.73673948e-01 -6.07387313e-01  4.21564419e-01  1.33225943e-01]\n",
      " [ 5.53333275e-01  6.79450215e-01  5.35295827e-01  5.27644853e-01]\n",
      " [-1.14301691e+00 -1.63685734e+00 -2.60824029e-01 -2.61192967e-01]\n",
      " [ 9.16836886e-01 -3.50019808e-01  4.78430123e-01  1.33225943e-01]\n",
      " [-7.79513300e-01 -8.64754819e-01  8.03701950e-02  2.64698913e-01]\n",
      " [ 6.86617933e-02 -9.26523021e-02  2.50967307e-01  3.96171883e-01]\n",
      " [ 1.89829664e-01 -2.15159235e+00  1.37235899e-01 -2.61192967e-01]\n",
      " [ 3.10997534e-01 -3.50019808e-01  5.35295827e-01  2.64698913e-01]\n",
      " [-2.94841818e-01 -3.50019808e-01 -9.02269170e-02  1.33225943e-01]\n",
      " [ 1.03800476e+00  1.64715204e-01  3.64698715e-01  2.64698913e-01]\n",
      " [-2.94841818e-01 -9.26523021e-02  4.21564419e-01  3.96171883e-01]\n",
      " [-5.25060772e-02 -8.64754819e-01  1.94101603e-01 -2.61192967e-01]\n",
      " [ 4.32165405e-01 -2.15159235e+00  4.21564419e-01  3.96171883e-01]\n",
      " [-2.94841818e-01 -1.37948983e+00  8.03701950e-02 -1.29719997e-01]\n",
      " [ 6.86617933e-02  4.22082709e-01  5.92161531e-01  7.90590793e-01]\n",
      " [ 3.10997534e-01 -6.07387313e-01  1.37235899e-01  1.33225943e-01]\n",
      " [ 5.53333275e-01 -1.37948983e+00  6.49027235e-01  3.96171883e-01]\n",
      " [ 3.10997534e-01 -6.07387313e-01  5.35295827e-01  1.75297293e-03]\n",
      " [ 6.74501145e-01 -3.50019808e-01  3.07833011e-01  1.33225943e-01]\n",
      " [ 9.16836886e-01 -9.26523021e-02  3.64698715e-01  2.64698913e-01]\n",
      " [ 1.15917263e+00 -6.07387313e-01  5.92161531e-01  2.64698913e-01]\n",
      " [ 1.03800476e+00 -9.26523021e-02  7.05892939e-01  6.59117823e-01]\n",
      " [ 1.89829664e-01 -3.50019808e-01  4.21564419e-01  3.96171883e-01]\n",
      " [-1.73673948e-01 -1.12212232e+00 -1.47092621e-01 -2.61192967e-01]\n",
      " [-4.16009689e-01 -1.63685734e+00  2.35044910e-02 -1.29719997e-01]\n",
      " [-4.16009689e-01 -1.63685734e+00 -3.33612130e-02 -2.61192967e-01]\n",
      " [-5.25060772e-02 -8.64754819e-01  8.03701950e-02  1.75297293e-03]\n",
      " [ 1.89829664e-01 -8.64754819e-01  7.62758643e-01  5.27644853e-01]\n",
      " [-5.37177559e-01 -9.26523021e-02  4.21564419e-01  3.96171883e-01]\n",
      " [ 1.89829664e-01  9.36817721e-01  4.21564419e-01  5.27644853e-01]\n",
      " [ 1.03800476e+00  1.64715204e-01  5.35295827e-01  3.96171883e-01]\n",
      " [ 5.53333275e-01 -1.89422484e+00  3.64698715e-01  1.33225943e-01]\n",
      " [-2.94841818e-01 -9.26523021e-02  1.94101603e-01  1.33225943e-01]\n",
      " [-4.16009689e-01 -1.37948983e+00  1.37235899e-01  1.33225943e-01]\n",
      " [-4.16009689e-01 -1.12212232e+00  3.64698715e-01  1.75297293e-03]\n",
      " [ 3.10997534e-01 -9.26523021e-02  4.78430123e-01  2.64698913e-01]\n",
      " [-5.25060772e-02 -1.12212232e+00  1.37235899e-01  1.75297293e-03]\n",
      " [-1.02184904e+00 -1.89422484e+00 -2.60824029e-01 -2.61192967e-01]\n",
      " [-2.94841818e-01 -8.64754819e-01  2.50967307e-01  1.33225943e-01]\n",
      " [-1.73673948e-01 -9.26523021e-02  2.50967307e-01  1.75297293e-03]\n",
      " [-1.73673948e-01 -3.50019808e-01  2.50967307e-01  1.33225943e-01]\n",
      " [ 4.32165405e-01 -3.50019808e-01  3.07833011e-01  1.33225943e-01]\n",
      " [-9.00681170e-01 -1.37948983e+00 -4.31421141e-01 -1.29719997e-01]\n",
      " [-1.73673948e-01 -6.07387313e-01  1.94101603e-01  1.33225943e-01]\n",
      " [ 5.53333275e-01  6.79450215e-01  1.27454998e+00  1.71090158e+00]\n",
      " [-5.25060772e-02 -8.64754819e-01  7.62758643e-01  9.22063763e-01]\n",
      " [ 1.52267624e+00 -9.26523021e-02  1.21768427e+00  1.18500970e+00]\n",
      " [ 5.53333275e-01 -3.50019808e-01  1.04708716e+00  7.90590793e-01]\n",
      " [ 7.95669016e-01 -9.26523021e-02  1.16081857e+00  1.31648267e+00]\n",
      " [ 2.12851559e+00 -9.26523021e-02  1.61574420e+00  1.18500970e+00]\n",
      " [-1.14301691e+00 -1.37948983e+00  4.21564419e-01  6.59117823e-01]\n",
      " [ 1.76501198e+00 -3.50019808e-01  1.44514709e+00  7.90590793e-01]\n",
      " [ 1.03800476e+00 -1.37948983e+00  1.16081857e+00  7.90590793e-01]\n",
      " [ 1.64384411e+00  1.45155273e+00  1.33141568e+00  1.71090158e+00]\n",
      " [ 7.95669016e-01  4.22082709e-01  7.62758643e-01  1.05353673e+00]\n",
      " [ 6.74501145e-01 -8.64754819e-01  8.76490051e-01  9.22063763e-01]\n",
      " [ 1.15917263e+00 -9.26523021e-02  9.90221459e-01  1.18500970e+00]\n",
      " [-1.73673948e-01 -1.37948983e+00  7.05892939e-01  1.05353673e+00]\n",
      " [-5.25060772e-02 -6.07387313e-01  7.62758643e-01  1.57942861e+00]\n",
      " [ 6.74501145e-01  4.22082709e-01  8.76490051e-01  1.44795564e+00]\n",
      " [ 7.95669016e-01 -9.26523021e-02  9.90221459e-01  7.90590793e-01]\n",
      " [ 2.24968346e+00  1.96628774e+00  1.67260991e+00  1.31648267e+00]\n",
      " [ 2.24968346e+00 -1.12212232e+00  1.78634131e+00  1.44795564e+00]\n",
      " [ 1.89829664e-01 -2.15159235e+00  7.05892939e-01  3.96171883e-01]\n",
      " [ 1.28034050e+00  4.22082709e-01  1.10395287e+00  1.44795564e+00]\n",
      " [-2.94841818e-01 -6.07387313e-01  6.49027235e-01  1.05353673e+00]\n",
      " [ 2.24968346e+00 -6.07387313e-01  1.67260991e+00  1.05353673e+00]\n",
      " [ 5.53333275e-01 -8.64754819e-01  6.49027235e-01  7.90590793e-01]\n",
      " [ 1.03800476e+00  6.79450215e-01  1.10395287e+00  1.18500970e+00]\n",
      " [ 1.64384411e+00  4.22082709e-01  1.27454998e+00  7.90590793e-01]\n",
      " [ 4.32165405e-01 -6.07387313e-01  5.92161531e-01  7.90590793e-01]\n",
      " [ 3.10997534e-01 -9.26523021e-02  6.49027235e-01  7.90590793e-01]\n",
      " [ 6.74501145e-01 -6.07387313e-01  1.04708716e+00  1.18500970e+00]\n",
      " [ 1.64384411e+00 -9.26523021e-02  1.16081857e+00  5.27644853e-01]\n",
      " [ 1.88617985e+00 -6.07387313e-01  1.33141568e+00  9.22063763e-01]\n",
      " [ 2.49201920e+00  1.96628774e+00  1.50201279e+00  1.05353673e+00]\n",
      " [ 6.74501145e-01 -6.07387313e-01  1.04708716e+00  1.31648267e+00]\n",
      " [ 5.53333275e-01 -6.07387313e-01  7.62758643e-01  3.96171883e-01]\n",
      " [ 3.10997534e-01 -1.12212232e+00  1.04708716e+00  2.64698913e-01]\n",
      " [ 2.24968346e+00 -9.26523021e-02  1.33141568e+00  1.44795564e+00]\n",
      " [ 5.53333275e-01  9.36817721e-01  1.04708716e+00  1.57942861e+00]\n",
      " [ 6.74501145e-01  1.64715204e-01  9.90221459e-01  7.90590793e-01]\n",
      " [ 1.89829664e-01 -9.26523021e-02  5.92161531e-01  7.90590793e-01]\n",
      " [ 1.28034050e+00  1.64715204e-01  9.33355755e-01  1.18500970e+00]\n",
      " [ 1.03800476e+00  1.64715204e-01  1.04708716e+00  1.57942861e+00]\n",
      " [ 1.28034050e+00  1.64715204e-01  7.62758643e-01  1.44795564e+00]\n",
      " [-5.25060772e-02 -8.64754819e-01  7.62758643e-01  9.22063763e-01]\n",
      " [ 1.15917263e+00  4.22082709e-01  1.21768427e+00  1.44795564e+00]\n",
      " [ 1.03800476e+00  6.79450215e-01  1.10395287e+00  1.71090158e+00]\n",
      " [ 1.03800476e+00 -9.26523021e-02  8.19624347e-01  1.44795564e+00]\n",
      " [ 5.53333275e-01 -1.37948983e+00  7.05892939e-01  9.22063763e-01]\n",
      " [ 7.95669016e-01 -9.26523021e-02  8.19624347e-01  1.05353673e+00]\n",
      " [ 4.32165405e-01  9.36817721e-01  9.33355755e-01  1.44795564e+00]\n",
      " [ 6.86617933e-02 -9.26523021e-02  7.62758643e-01  7.90590793e-01]\n",
      " [-1.73673948e-01 -9.26523021e-02 -1.28440670e+00 -1.05003079e+00]\n",
      " [-7.79513300e-01 -9.26523021e-02 -1.28440670e+00 -1.44444970e+00]\n",
      " [-4.16009689e-01 -9.26523021e-02 -1.34127240e+00 -1.31297673e+00]\n",
      " [-1.02184904e+00 -9.26523021e-02 -1.47092621e-01 -2.61192967e-01]]\n"
     ]
    }
   ],
   "source": [
    "from sklearn.preprocessing import StandardScaler\n",
    "\n",
    "scaler = StandardScaler()\n",
    "scaler.fit(X)\n",
    "\n",
    "X = scaler.transform(X)\n",
    "print(X)"
   ]
  },
  {
   "cell_type": "code",
   "execution_count": 24,
   "metadata": {},
   "outputs": [],
   "source": [
    "from sklearn.model_selection import train_test_split\n",
    "X_train, X_test, Y_train, Y_test = train_test_split(X,Y, test_size = 0.3, random_state = 10)"
   ]
  },
  {
   "cell_type": "markdown",
   "metadata": {},
   "source": [
    "# Logistic Regression"
   ]
  },
  {
   "cell_type": "code",
   "execution_count": 25,
   "metadata": {},
   "outputs": [
    {
     "name": "stdout",
     "output_type": "stream",
     "text": [
      "[[-0.52130739  1.31461888 -1.58625069 -1.42463666]\n",
      " [-0.18511796 -1.32963475  0.70221013 -0.54625748]\n",
      " [ 0.40401909  0.1353905   1.51153941  2.13582813]]\n",
      "[-1.48449247 -1.00096668 -2.09753913]\n"
     ]
    }
   ],
   "source": [
    "#Building the model\n",
    "from sklearn.linear_model import LogisticRegression\n",
    "classifier=LogisticRegression() # creating the model object\n",
    "#Fitting the training data in the model\n",
    "classifier.fit(X_train,Y_train)\n",
    "Y_pred = classifier.predict(X_test)\n",
    "#print(list(zip(Y_test,Y_pred)))\n",
    "\n",
    "print(classifier.coef_)\n",
    "print(classifier.intercept_)"
   ]
  },
  {
   "cell_type": "code",
   "execution_count": 26,
   "metadata": {},
   "outputs": [
    {
     "name": "stdout",
     "output_type": "stream",
     "text": [
      "[[12  1  0]\n",
      " [ 0 12  6]\n",
      " [ 0  1 13]]\n",
      "Classification report: \n",
      "              precision    recall  f1-score   support\n",
      "\n",
      "           0       1.00      0.92      0.96        13\n",
      "           1       0.86      0.67      0.75        18\n",
      "           2       0.68      0.93      0.79        14\n",
      "\n",
      "    accuracy                           0.82        45\n",
      "   macro avg       0.85      0.84      0.83        45\n",
      "weighted avg       0.84      0.82      0.82        45\n",
      "\n",
      "Accuracy of the model: 0.8222222222222222\n"
     ]
    }
   ],
   "source": [
    "#Evaluating the model\n",
    "\n",
    "from sklearn.metrics import confusion_matrix, accuracy_score, classification_report\n",
    "\n",
    "cfm= confusion_matrix (Y_test,Y_pred)\n",
    "print(cfm)\n",
    "\n",
    "print(\"Classification report: \")\n",
    "\n",
    "print(classification_report(Y_test,Y_pred))\n",
    "\n",
    "acc=accuracy_score(Y_test,Y_pred)\n",
    "print(\"Accuracy of the model:\",acc)"
   ]
  },
  {
   "cell_type": "markdown",
   "metadata": {},
   "source": [
    "# Naive Bayes"
   ]
  },
  {
   "cell_type": "code",
   "execution_count": 27,
   "metadata": {},
   "outputs": [
    {
     "name": "stdout",
     "output_type": "stream",
     "text": [
      "              precision    recall  f1-score   support\n",
      "\n",
      "           0       1.00      1.00      1.00        13\n",
      "           1       0.89      0.89      0.89        18\n",
      "           2       0.86      0.86      0.86        14\n",
      "\n",
      "    accuracy                           0.91        45\n",
      "   macro avg       0.92      0.92      0.92        45\n",
      "weighted avg       0.91      0.91      0.91        45\n",
      "\n",
      "[[13  0  0]\n",
      " [ 0 16  2]\n",
      " [ 0  2 12]]\n",
      "accuracy is 0.9111111111111111\n"
     ]
    }
   ],
   "source": [
    "# Naive Bayes\n",
    "from sklearn.naive_bayes import GaussianNB\n",
    "classifier = GaussianNB()\n",
    "classifier.fit(X_train, Y_train)\n",
    "\n",
    "Y_pred_NB= classifier.predict(X_test)\n",
    "\n",
    "# Summary of the predictions made by the classifier\n",
    "print(classification_report(Y_test, Y_pred_NB))\n",
    "print(confusion_matrix(Y_test, Y_pred_NB))\n",
    "# Accuracy score\n",
    "from sklearn.metrics import accuracy_score\n",
    "print('accuracy is',accuracy_score(Y_pred_NB,Y_test))"
   ]
  },
  {
   "cell_type": "markdown",
   "metadata": {},
   "source": [
    "# Support Vector Machine/Classifier (SVM)"
   ]
  },
  {
   "cell_type": "code",
   "execution_count": 28,
   "metadata": {},
   "outputs": [
    {
     "name": "stdout",
     "output_type": "stream",
     "text": [
      "              precision    recall  f1-score   support\n",
      "\n",
      "           0       1.00      1.00      1.00        13\n",
      "           1       0.90      1.00      0.95        18\n",
      "           2       1.00      0.86      0.92        14\n",
      "\n",
      "    accuracy                           0.96        45\n",
      "   macro avg       0.97      0.95      0.96        45\n",
      "weighted avg       0.96      0.96      0.96        45\n",
      "\n",
      "[[13  0  0]\n",
      " [ 0 18  0]\n",
      " [ 0  2 12]]\n",
      "accuracy is 0.9555555555555556\n"
     ]
    }
   ],
   "source": [
    "from sklearn.svm import SVC\n",
    "\n",
    "classifier = SVC()\n",
    "classifier.fit(X_train, Y_train)\n",
    "\n",
    "y_pred_SVM = classifier.predict(X_test)\n",
    "\n",
    "# Summary of the predictions made by the classifier\n",
    "print(classification_report(Y_test, y_pred_SVM))\n",
    "print(confusion_matrix(Y_test, y_pred_SVM))\n",
    "# Accuracy score\n",
    "from sklearn.metrics import accuracy_score\n",
    "print('accuracy is',accuracy_score(y_pred_SVM,Y_test))"
   ]
  },
  {
   "cell_type": "markdown",
   "metadata": {},
   "source": [
    "# K-Nearest Neighbor Classifier (KNN) "
   ]
  },
  {
   "cell_type": "code",
   "execution_count": 29,
   "metadata": {},
   "outputs": [
    {
     "name": "stdout",
     "output_type": "stream",
     "text": [
      "              precision    recall  f1-score   support\n",
      "\n",
      "           0       1.00      1.00      1.00        13\n",
      "           1       0.90      1.00      0.95        18\n",
      "           2       1.00      0.86      0.92        14\n",
      "\n",
      "    accuracy                           0.96        45\n",
      "   macro avg       0.97      0.95      0.96        45\n",
      "weighted avg       0.96      0.96      0.96        45\n",
      "\n",
      "[[13  0  0]\n",
      " [ 0 18  0]\n",
      " [ 0  2 12]]\n",
      "accuracy is 0.9555555555555556\n"
     ]
    }
   ],
   "source": [
    "from sklearn.neighbors import KNeighborsClassifier\n",
    "\n",
    "classifier = KNeighborsClassifier(n_neighbors=6)\n",
    "classifier.fit(X_train, Y_train)\n",
    "\n",
    "y_pred_KNN = classifier.predict(X_test)\n",
    "\n",
    "# Summary of the predictions made by the classifier\n",
    "print(classification_report(Y_test, y_pred_KNN))\n",
    "print(confusion_matrix(Y_test, y_pred_KNN))\n",
    "# Accuracy score\n",
    "from sklearn.metrics import accuracy_score\n",
    "print('accuracy is',accuracy_score(y_pred_KNN,Y_test))"
   ]
  },
  {
   "cell_type": "markdown",
   "metadata": {},
   "source": [
    "# Decision Tree"
   ]
  },
  {
   "cell_type": "code",
   "execution_count": 30,
   "metadata": {},
   "outputs": [
    {
     "name": "stdout",
     "output_type": "stream",
     "text": [
      "              precision    recall  f1-score   support\n",
      "\n",
      "           0       1.00      1.00      1.00        13\n",
      "           1       0.89      0.94      0.92        18\n",
      "           2       0.92      0.86      0.89        14\n",
      "\n",
      "    accuracy                           0.93        45\n",
      "   macro avg       0.94      0.93      0.94        45\n",
      "weighted avg       0.93      0.93      0.93        45\n",
      "\n",
      "[[13  0  0]\n",
      " [ 0 17  1]\n",
      " [ 0  2 12]]\n",
      "accuracy is 0.9333333333333333\n"
     ]
    }
   ],
   "source": [
    "# Decision Tree's\n",
    "from sklearn.tree import DecisionTreeClassifier\n",
    "\n",
    "classifier = DecisionTreeClassifier()\n",
    "\n",
    "classifier.fit(X_train, Y_train)\n",
    "\n",
    "y_pred_DT = classifier.predict(X_test)\n",
    "\n",
    "# Summary of the predictions made by the classifier\n",
    "print(classification_report(Y_test, y_pred_DT))\n",
    "print(confusion_matrix(Y_test, y_pred_DT))\n",
    "# Accuracy score\n",
    "from sklearn.metrics import accuracy_score\n",
    "print('accuracy is',accuracy_score(y_pred_DT,Y_test))"
   ]
  },
  {
   "cell_type": "markdown",
   "metadata": {},
   "source": [
    "# K-Means Clustering "
   ]
  },
  {
   "cell_type": "code",
   "execution_count": 42,
   "metadata": {},
   "outputs": [
    {
     "data": {
      "image/png": "[encoded data removed]",
      "text/plain": [
       "<Figure size 432x288 with 1 Axes>"
      ]
     },
     "metadata": {
      "needs_background": "light"
     },
     "output_type": "display_data"
    }
   ],
   "source": [
    "X = new_df[[\"petal_length\",\"petal_width\"]]\n",
    "#Visualise data points\n",
    "plt.scatter(X[\"petal_length\"],X[\"petal_width\"],c='black')\n",
    "plt.xlabel('Petal Length')\n",
    "plt.ylabel('Petal Width')\n",
    "plt.show()"
   ]
  },
  {
   "cell_type": "code",
   "execution_count": 45,
   "metadata": {},
   "outputs": [
    {
     "data": {
      "image/png": "[encoded data removed]",
      "text/plain": [
       "<Figure size 432x288 with 1 Axes>"
      ]
     },
     "metadata": {
      "needs_background": "light"
     },
     "output_type": "display_data"
    }
   ],
   "source": [
    "# Step 1 and 2 - Choose the number of clusters (k) and select random centroid for each cluster\n",
    "\n",
    "#number of clusters\n",
    "K=3\n",
    "\n",
    "# Select random observation as centroids\n",
    "Centroids = (X.sample(n=K))\n",
    "plt.scatter(X[\"petal_length\"],X[\"petal_width\"],c='black')\n",
    "plt.scatter(Centroids[\"petal_length\"],Centroids[\"petal_width\"],c='red')\n",
    "plt.xlabel('Petal Length')\n",
    "plt.ylabel('Petal Width')\n",
    "plt.show()"
   ]
  },
  {
   "cell_type": "code",
   "execution_count": 46,
   "metadata": {},
   "outputs": [
    {
     "name": "stdout",
     "output_type": "stream",
     "text": [
      "-0.6322720165057251\n",
      "-0.30318435593114645\n",
      "-0.07699063688247798\n",
      "-0.05232365182757914\n",
      "-0.04085231634838937\n",
      "-0.014220779220779356\n",
      "-0.014732835602400352\n",
      "0.0\n"
     ]
    }
   ],
   "source": [
    "# Step 3 - Assign all the points to the closest cluster centroid\n",
    "# Step 4 - Recompute centroids of newly formed clusters\n",
    "# Step 5 - Repeat step 3 and 4\n",
    "\n",
    "diff = 1\n",
    "j=0\n",
    "\n",
    "while(diff!=0):\n",
    "    XD=X\n",
    "    i=1\n",
    "    for index1,row_c in Centroids.iterrows():\n",
    "        ED=[]\n",
    "        for index2,row_d in XD.iterrows():\n",
    "            d1=(row_c[\"petal_length\"]-row_d[\"petal_length\"])**2\n",
    "            d2=(row_c[\"petal_width\"]-row_d[\"petal_width\"])**2\n",
    "            d=np.sqrt(d1+d2)\n",
    "            ED.append(d)\n",
    "        X[i]=ED\n",
    "        i=i+1\n",
    "\n",
    "    C=[]\n",
    "    for index,row in X.iterrows():\n",
    "        min_dist=row[1]\n",
    "        pos=1\n",
    "        for i in range(K):\n",
    "            if row[i+1] < min_dist:\n",
    "                min_dist = row[i+1]\n",
    "                pos=i+1\n",
    "        C.append(pos)\n",
    "    X[\"Cluster\"]=C\n",
    "    Centroids_new = X.groupby([\"Cluster\"]).mean()[[\"petal_width\",\"petal_length\"]]\n",
    "    if j == 0:\n",
    "        diff=1\n",
    "        j=j+1\n",
    "    else:\n",
    "        diff = (Centroids_new['petal_width'] - Centroids['petal_width']).sum() \n",
    "        + (Centroids_new['petal_length'] - Centroids['petal_length']).sum()\n",
    "        print(diff.sum())\n",
    "    Centroids = X.groupby([\"Cluster\"]).mean()[[\"petal_width\",\"petal_length\"]]"
   ]
  },
  {
   "cell_type": "code",
   "execution_count": 47,
   "metadata": {},
   "outputs": [
    {
     "data": {
      "image/png": "[encoded data removed]",
      "text/plain": [
       "<Figure size 432x288 with 1 Axes>"
      ]
     },
     "metadata": {
      "needs_background": "light"
     },
     "output_type": "display_data"
    }
   ],
   "source": [
    "color=['blue','green','cyan']\n",
    "for k in range(K):\n",
    "    new_df=X[X[\"Cluster\"]==k+1]\n",
    "    plt.scatter(new_df[\"petal_length\"],new_df[\"petal_width\"],c=color[k])\n",
    "plt.scatter(Centroids[\"petal_length\"],Centroids[\"petal_width\"],c='red')\n",
    "plt.xlabel('Petal Length')\n",
    "plt.ylabel('Petal Width')\n",
    "plt.show()"
   ]
  },
  {
   "cell_type": "code",
   "execution_count": null,
   "metadata": {},
   "outputs": [],
   "source": []
  },
  {
   "cell_type": "code",
   "execution_count": 50,
   "metadata": {},
   "outputs": [
    {
     "data": {
      "text/html": [
       "<div>\n",
       "<style scoped>\n",
       "    .dataframe tbody tr th:only-of-type {\n",
       "        vertical-align: middle;\n",
       "    }\n",
       "\n",
       "    .dataframe tbody tr th {\n",
       "        vertical-align: top;\n",
       "    }\n",
       "\n",
       "    .dataframe thead th {\n",
       "        text-align: right;\n",
       "    }\n",
       "</style>\n",
       "<table border=\"1\" class=\"dataframe\">\n",
       "  <thead>\n",
       "    <tr style=\"text-align: right;\">\n",
       "      <th></th>\n",
       "      <th>sepal_length</th>\n",
       "      <th>sepal_width</th>\n",
       "      <th>petal_length</th>\n",
       "      <th>petal_width</th>\n",
       "      <th>species</th>\n",
       "      <th>Cluster</th>\n",
       "    </tr>\n",
       "  </thead>\n",
       "  <tbody>\n",
       "    <tr>\n",
       "      <td>0</td>\n",
       "      <td>5.1</td>\n",
       "      <td>3.5</td>\n",
       "      <td>1.4</td>\n",
       "      <td>0.2</td>\n",
       "      <td>Iris-setosa</td>\n",
       "      <td>2</td>\n",
       "    </tr>\n",
       "    <tr>\n",
       "      <td>1</td>\n",
       "      <td>4.9</td>\n",
       "      <td>3.0</td>\n",
       "      <td>1.4</td>\n",
       "      <td>0.2</td>\n",
       "      <td>Iris-setosa</td>\n",
       "      <td>2</td>\n",
       "    </tr>\n",
       "    <tr>\n",
       "      <td>2</td>\n",
       "      <td>4.7</td>\n",
       "      <td>3.2</td>\n",
       "      <td>1.3</td>\n",
       "      <td>0.2</td>\n",
       "      <td>Iris-setosa</td>\n",
       "      <td>2</td>\n",
       "    </tr>\n",
       "    <tr>\n",
       "      <td>3</td>\n",
       "      <td>4.6</td>\n",
       "      <td>3.1</td>\n",
       "      <td>1.5</td>\n",
       "      <td>0.2</td>\n",
       "      <td>Iris-setosa</td>\n",
       "      <td>2</td>\n",
       "    </tr>\n",
       "    <tr>\n",
       "      <td>4</td>\n",
       "      <td>5.0</td>\n",
       "      <td>3.6</td>\n",
       "      <td>1.4</td>\n",
       "      <td>0.2</td>\n",
       "      <td>Iris-setosa</td>\n",
       "      <td>2</td>\n",
       "    </tr>\n",
       "    <tr>\n",
       "      <td>...</td>\n",
       "      <td>...</td>\n",
       "      <td>...</td>\n",
       "      <td>...</td>\n",
       "      <td>...</td>\n",
       "      <td>...</td>\n",
       "      <td>...</td>\n",
       "    </tr>\n",
       "    <tr>\n",
       "      <td>145</td>\n",
       "      <td>6.7</td>\n",
       "      <td>3.0</td>\n",
       "      <td>5.2</td>\n",
       "      <td>2.3</td>\n",
       "      <td>Iris-virginica</td>\n",
       "      <td>3</td>\n",
       "    </tr>\n",
       "    <tr>\n",
       "      <td>146</td>\n",
       "      <td>6.3</td>\n",
       "      <td>2.5</td>\n",
       "      <td>5.0</td>\n",
       "      <td>1.9</td>\n",
       "      <td>Iris-virginica</td>\n",
       "      <td>2</td>\n",
       "    </tr>\n",
       "    <tr>\n",
       "      <td>147</td>\n",
       "      <td>6.5</td>\n",
       "      <td>3.0</td>\n",
       "      <td>5.2</td>\n",
       "      <td>2.0</td>\n",
       "      <td>Iris-virginica</td>\n",
       "      <td>2</td>\n",
       "    </tr>\n",
       "    <tr>\n",
       "      <td>148</td>\n",
       "      <td>6.2</td>\n",
       "      <td>3.4</td>\n",
       "      <td>5.4</td>\n",
       "      <td>2.3</td>\n",
       "      <td>Iris-virginica</td>\n",
       "      <td>2</td>\n",
       "    </tr>\n",
       "    <tr>\n",
       "      <td>149</td>\n",
       "      <td>5.9</td>\n",
       "      <td>3.0</td>\n",
       "      <td>5.1</td>\n",
       "      <td>1.8</td>\n",
       "      <td>Iris-virginica</td>\n",
       "      <td>1</td>\n",
       "    </tr>\n",
       "  </tbody>\n",
       "</table>\n",
       "<p>150 rows × 6 columns</p>\n",
       "</div>"
      ],
      "text/plain": [
       "     sepal_length  sepal_width  petal_length  petal_width         species  \\\n",
       "0             5.1          3.5           1.4          0.2     Iris-setosa   \n",
       "1             4.9          3.0           1.4          0.2     Iris-setosa   \n",
       "2             4.7          3.2           1.3          0.2     Iris-setosa   \n",
       "3             4.6          3.1           1.5          0.2     Iris-setosa   \n",
       "4             5.0          3.6           1.4          0.2     Iris-setosa   \n",
       "..            ...          ...           ...          ...             ...   \n",
       "145           6.7          3.0           5.2          2.3  Iris-virginica   \n",
       "146           6.3          2.5           5.0          1.9  Iris-virginica   \n",
       "147           6.5          3.0           5.2          2.0  Iris-virginica   \n",
       "148           6.2          3.4           5.4          2.3  Iris-virginica   \n",
       "149           5.9          3.0           5.1          1.8  Iris-virginica   \n",
       "\n",
       "     Cluster  \n",
       "0          2  \n",
       "1          2  \n",
       "2          2  \n",
       "3          2  \n",
       "4          2  \n",
       "..       ...  \n",
       "145        3  \n",
       "146        2  \n",
       "147        2  \n",
       "148        2  \n",
       "149        1  \n",
       "\n",
       "[150 rows x 6 columns]"
      ]
     },
     "execution_count": 50,
     "metadata": {},
     "output_type": "execute_result"
    }
   ],
   "source": [
    "df[\"Cluster\"] = C\n",
    "df"
   ]
  },
  {
   "cell_type": "code",
   "execution_count": 52,
   "metadata": {},
   "outputs": [
    {
     "data": {
      "text/html": [
       "<div>\n",
       "<style scoped>\n",
       "    .dataframe tbody tr th:only-of-type {\n",
       "        vertical-align: middle;\n",
       "    }\n",
       "\n",
       "    .dataframe tbody tr th {\n",
       "        vertical-align: top;\n",
       "    }\n",
       "\n",
       "    .dataframe thead th {\n",
       "        text-align: right;\n",
       "    }\n",
       "</style>\n",
       "<table border=\"1\" class=\"dataframe\">\n",
       "  <thead>\n",
       "    <tr style=\"text-align: right;\">\n",
       "      <th></th>\n",
       "      <th>sepal_length</th>\n",
       "      <th>sepal_width</th>\n",
       "      <th>petal_length</th>\n",
       "      <th>petal_width</th>\n",
       "      <th>species</th>\n",
       "      <th>Cluster</th>\n",
       "    </tr>\n",
       "  </thead>\n",
       "  <tbody>\n",
       "    <tr>\n",
       "      <td>0</td>\n",
       "      <td>5.1</td>\n",
       "      <td>3.5</td>\n",
       "      <td>1.4</td>\n",
       "      <td>0.2</td>\n",
       "      <td>Iris-setosa</td>\n",
       "      <td>Sentosa</td>\n",
       "    </tr>\n",
       "    <tr>\n",
       "      <td>1</td>\n",
       "      <td>4.9</td>\n",
       "      <td>3.0</td>\n",
       "      <td>1.4</td>\n",
       "      <td>0.2</td>\n",
       "      <td>Iris-setosa</td>\n",
       "      <td>Sentosa</td>\n",
       "    </tr>\n",
       "    <tr>\n",
       "      <td>2</td>\n",
       "      <td>4.7</td>\n",
       "      <td>3.2</td>\n",
       "      <td>1.3</td>\n",
       "      <td>0.2</td>\n",
       "      <td>Iris-setosa</td>\n",
       "      <td>Sentosa</td>\n",
       "    </tr>\n",
       "    <tr>\n",
       "      <td>3</td>\n",
       "      <td>4.6</td>\n",
       "      <td>3.1</td>\n",
       "      <td>1.5</td>\n",
       "      <td>0.2</td>\n",
       "      <td>Iris-setosa</td>\n",
       "      <td>Sentosa</td>\n",
       "    </tr>\n",
       "    <tr>\n",
       "      <td>4</td>\n",
       "      <td>5.0</td>\n",
       "      <td>3.6</td>\n",
       "      <td>1.4</td>\n",
       "      <td>0.2</td>\n",
       "      <td>Iris-setosa</td>\n",
       "      <td>Sentosa</td>\n",
       "    </tr>\n",
       "  </tbody>\n",
       "</table>\n",
       "</div>"
      ],
      "text/plain": [
       "   sepal_length  sepal_width  petal_length  petal_width      species  Cluster\n",
       "0           5.1          3.5           1.4          0.2  Iris-setosa  Sentosa\n",
       "1           4.9          3.0           1.4          0.2  Iris-setosa  Sentosa\n",
       "2           4.7          3.2           1.3          0.2  Iris-setosa  Sentosa\n",
       "3           4.6          3.1           1.5          0.2  Iris-setosa  Sentosa\n",
       "4           5.0          3.6           1.4          0.2  Iris-setosa  Sentosa"
      ]
     },
     "execution_count": 52,
     "metadata": {},
     "output_type": "execute_result"
    }
   ],
   "source": [
    "df[\"Cluster\"] = df.Cluster.map({2:\"Sentosa\",1:\"Versicolor\",3:\"Virginica\"})\n",
    "df.head()"
   ]
  },
  {
   "cell_type": "code",
   "execution_count": 53,
   "metadata": {},
   "outputs": [],
   "source": [
    "df.to_csv(r'C:\\Users\\Vatsal\\Desktop\\projects\\Data Sets\\Self\\Iris\\Iris-Cluster1.csv', index=True)"
   ]
  },
  {
   "cell_type": "code",
   "execution_count": null,
   "metadata": {},
   "outputs": [],
   "source": []
  },
  {
   "cell_type": "code",
   "execution_count": null,
   "metadata": {},
   "outputs": [],
   "source": []
  }
 ],
 "metadata": {
  "kernelspec": {
   "display_name": "Python 3",
   "language": "python",
   "name": "python3"
  },
  "language_info": {
   "codemirror_mode": {
    "name": "ipython",
    "version": 3
   },
   "file_extension": ".py",
   "mimetype": "text/x-python",
   "name": "python",
   "nbconvert_exporter": "python",
   "pygments_lexer": "ipython3",
   "version": "3.7.4"
  }
 },
 "nbformat": 4,
 "nbformat_minor": 2
}
